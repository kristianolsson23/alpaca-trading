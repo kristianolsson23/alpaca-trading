{
 "cells": [
  {
   "cell_type": "markdown",
   "metadata": {},
   "source": [
    "# Alpaca Markets Trading"
   ]
  },
  {
   "cell_type": "markdown",
   "metadata": {},
   "source": [
    "## orders.ipynb"
   ]
  },
  {
   "cell_type": "markdown",
   "metadata": {},
   "source": [
    "### import libraries"
   ]
  },
  {
   "cell_type": "code",
   "execution_count": 1,
   "metadata": {},
   "outputs": [],
   "source": [
    "import numpy as np\n",
    "import pandas as pd\n",
    "import os\n",
    "os.chdir(\"/Users/kristianolsson/Desktop/DS/alpaca-trading\")"
   ]
  },
  {
   "cell_type": "code",
   "execution_count": 2,
   "metadata": {},
   "outputs": [],
   "source": [
    "import alpaca\n",
    "import alpaca_trade_api as tradeapi\n",
    "import alpaca.trading\n",
    "from alpaca.trading.client import TradingClient\n",
    "from alpaca.trading.requests import MarketOrderRequest\n",
    "from alpaca.trading.enums import OrderSide, TimeInForce\n"
   ]
  },
  {
   "cell_type": "markdown",
   "metadata": {},
   "source": [
    "### import account configuration"
   ]
  },
  {
   "cell_type": "code",
   "execution_count": 3,
   "metadata": {},
   "outputs": [
    {
     "name": "stdout",
     "output_type": "stream",
     "text": [
      "\"id\": 89025f0a-27c9-475c-b4b9-8d8160f76d05\n",
      "\"account_number\": PA3DA3CA6NYS\n",
      "\"status\": ACTIVE\n",
      "\"crypto_status\": ACTIVE\n",
      "\"currency\": USD\n",
      "\"buying_power\": 199978.91296\n",
      "\"regt_buying_power\": 199978.91296\n",
      "\"daytrading_buying_power\": 0\n",
      "\"non_marginable_buying_power\": 99979.02\n",
      "\"cash\": 99979.02\n",
      "\"accrued_fees\": 0\n",
      "\"pending_transfer_out\": None\n",
      "\"pending_transfer_in\": 0\n",
      "\"portfolio_value\": 99999.89296\n",
      "\"pattern_day_trader\": False\n",
      "\"trading_blocked\": False\n",
      "\"transfers_blocked\": False\n",
      "\"account_blocked\": False\n",
      "\"created_at\": 2023-07-19 17:54:05.861642+00:00\n",
      "\"trade_suspended_by_user\": False\n",
      "\"multiplier\": 2\n",
      "\"shorting_enabled\": True\n",
      "\"equity\": 99999.89296\n",
      "\"last_equity\": 99999.9592\n",
      "\"long_market_value\": 20.87296\n",
      "\"short_market_value\": 0\n",
      "\"initial_margin\": 10.43648\n",
      "\"maintenance_margin\": 6.261888\n",
      "\"last_maintenance_margin\": 6.28\n",
      "\"sma\": 0\n",
      "\"daytrade_count\": 0\n"
     ]
    }
   ],
   "source": [
    "%run config.ipynb"
   ]
  },
  {
   "cell_type": "markdown",
   "metadata": {},
   "source": [
    "### create market order trial"
   ]
  },
  {
   "cell_type": "markdown",
   "metadata": {},
   "source": [
    "**07/19/2023** first market order - SPY "
   ]
  },
  {
   "cell_type": "code",
   "execution_count": 8,
   "metadata": {},
   "outputs": [],
   "source": [
    "\n",
    "# preparing market order\n",
    "market_order_data = MarketOrderRequest(\n",
    "                    symbol=\"SPY\",\n",
    "                    qty=0.023,\n",
    "                    side=OrderSide.BUY,\n",
    "                    time_in_force=TimeInForce.DAY\n",
    "                    )\n",
    "\n",
    "# Market order\n",
    "market_order = trading_client.submit_order(\n",
    "                order_data=market_order_data\n",
    "               )"
   ]
  },
  {
   "cell_type": "markdown",
   "metadata": {},
   "source": [
    "**07/20/2023** show all positions and bracket order"
   ]
  },
  {
   "cell_type": "code",
   "execution_count": 6,
   "metadata": {},
   "outputs": [
    {
     "name": "stdout",
     "output_type": "stream",
     "text": [
      "\"asset_id\": b28f4066-5c6d-479b-a2af-85dc1a8f16fb\n",
      "\"symbol\": SPY\n",
      "\"exchange\": ARCA\n",
      "\"asset_class\": us_equity\n",
      "\"asset_marginable\": True\n",
      "\"avg_entry_price\": 455.978\n",
      "\"qty\": 0.046\n",
      "\"side\": long\n",
      "\"market_value\": 20.87204\n",
      "\"cost_basis\": 20.974988\n",
      "\"unrealized_pl\": -0.102948\n",
      "\"unrealized_plpc\": -0.0049081315326617\n",
      "\"unrealized_intraday_pl\": -0.06716\n",
      "\"unrealized_intraday_plpc\": -0.003207381370826\n",
      "\"current_price\": 453.74\n",
      "\"lastday_price\": 455.2\n",
      "\"change_today\": -0.003207381370826\n",
      "\"swap_rate\": None\n",
      "\"avg_entry_swap_rate\": None\n",
      "\"usd\": None\n",
      "\"qty_available\": 0.046\n"
     ]
    }
   ],
   "source": [
    "positions = trading_client.get_all_positions()\n",
    "for position in positions:\n",
    "    for property_name, value in position:\n",
    "        print(f\"\\\"{property_name}\\\": {value}\")"
   ]
  }
 ],
 "metadata": {
  "kernelspec": {
   "display_name": "base",
   "language": "python",
   "name": "python3"
  },
  "language_info": {
   "codemirror_mode": {
    "name": "ipython",
    "version": 3
   },
   "file_extension": ".py",
   "mimetype": "text/x-python",
   "name": "python",
   "nbconvert_exporter": "python",
   "pygments_lexer": "ipython3",
   "version": "3.10.9"
  },
  "orig_nbformat": 4
 },
 "nbformat": 4,
 "nbformat_minor": 2
}
