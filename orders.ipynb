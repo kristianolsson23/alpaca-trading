{
 "cells": [
  {
   "cell_type": "markdown",
   "metadata": {},
   "source": [
    "# Alpaca Markets Trading"
   ]
  },
  {
   "cell_type": "markdown",
   "metadata": {},
   "source": [
    "## orders.ipynb"
   ]
  },
  {
   "cell_type": "markdown",
   "metadata": {},
   "source": [
    "### import libraries"
   ]
  },
  {
   "cell_type": "code",
   "execution_count": 2,
   "metadata": {},
   "outputs": [],
   "source": [
    "import numpy as np\n",
    "import pandas as pd\n",
    "import os\n",
    "os.chdir(\"/Users/kristianolsson/Desktop/DS/alpaca-trading\")"
   ]
  },
  {
   "cell_type": "code",
   "execution_count": 3,
   "metadata": {},
   "outputs": [],
   "source": [
    "import alpaca\n",
    "import alpaca.trading\n",
    "from alpaca.trading.client import TradingClient\n",
    "from alpaca.trading.requests import MarketOrderRequest\n",
    "from alpaca.trading.enums import OrderSide, TimeInForce\n"
   ]
  },
  {
   "cell_type": "markdown",
   "metadata": {},
   "source": [
    "### import account configuration"
   ]
  },
  {
   "cell_type": "code",
   "execution_count": 6,
   "metadata": {},
   "outputs": [
    {
     "name": "stdout",
     "output_type": "stream",
     "text": [
      "\"id\": 89025f0a-27c9-475c-b4b9-8d8160f76d05\n",
      "\"account_number\": PA3DA3CA6NYS\n",
      "\"status\": ACTIVE\n",
      "\"crypto_status\": ACTIVE\n",
      "\"currency\": USD\n",
      "\"buying_power\": 200000\n",
      "\"regt_buying_power\": 200000\n",
      "\"daytrading_buying_power\": 0\n",
      "\"non_marginable_buying_power\": 100000\n",
      "\"cash\": 100000\n",
      "\"accrued_fees\": 0\n",
      "\"pending_transfer_out\": None\n",
      "\"pending_transfer_in\": 0\n",
      "\"portfolio_value\": 100000\n",
      "\"pattern_day_trader\": False\n",
      "\"trading_blocked\": False\n",
      "\"transfers_blocked\": False\n",
      "\"account_blocked\": False\n",
      "\"created_at\": 2023-07-19 17:54:05.861642+00:00\n",
      "\"trade_suspended_by_user\": False\n",
      "\"multiplier\": 2\n",
      "\"shorting_enabled\": True\n",
      "\"equity\": 100000\n",
      "\"last_equity\": 100000\n",
      "\"long_market_value\": 0\n",
      "\"short_market_value\": 0\n",
      "\"initial_margin\": 0\n",
      "\"maintenance_margin\": 0\n",
      "\"last_maintenance_margin\": 0\n",
      "\"sma\": 0\n",
      "\"daytrade_count\": 0\n"
     ]
    }
   ],
   "source": [
    "%run config.ipynb"
   ]
  },
  {
   "cell_type": "markdown",
   "metadata": {},
   "source": [
    "### create market order trial"
   ]
  },
  {
   "cell_type": "code",
   "execution_count": 8,
   "metadata": {},
   "outputs": [],
   "source": [
    "\n",
    "# preparing market order\n",
    "market_order_data = MarketOrderRequest(\n",
    "                    symbol=\"SPY\",\n",
    "                    qty=0.023,\n",
    "                    side=OrderSide.BUY,\n",
    "                    time_in_force=TimeInForce.DAY\n",
    "                    )\n",
    "\n",
    "# Market order\n",
    "market_order = trading_client.submit_order(\n",
    "                order_data=market_order_data\n",
    "               )"
   ]
  }
 ],
 "metadata": {
  "kernelspec": {
   "display_name": "base",
   "language": "python",
   "name": "python3"
  },
  "language_info": {
   "codemirror_mode": {
    "name": "ipython",
    "version": 3
   },
   "file_extension": ".py",
   "mimetype": "text/x-python",
   "name": "python",
   "nbconvert_exporter": "python",
   "pygments_lexer": "ipython3",
   "version": "3.10.9"
  },
  "orig_nbformat": 4
 },
 "nbformat": 4,
 "nbformat_minor": 2
}
